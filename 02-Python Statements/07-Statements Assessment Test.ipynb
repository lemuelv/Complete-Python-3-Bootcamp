{
 "cells": [
  {
   "cell_type": "markdown",
   "metadata": {
    "collapsed": true
   },
   "source": [
    "# Statements Assessment Test\n",
    "Let's test your knowledge!"
   ]
  },
  {
   "cell_type": "markdown",
   "metadata": {},
   "source": [
    "_____\n",
    "**Use <code>for</code>, .split(), and <code>if</code> to create a Statement that will print out words that start with 's':**"
   ]
  },
  {
   "cell_type": "code",
   "execution_count": 6,
   "metadata": {},
   "outputs": [],
   "source": [
    "st = 'Print only the words that start with s in this sentence'"
   ]
  },
  {
   "cell_type": "code",
   "execution_count": 14,
   "metadata": {},
   "outputs": [
    {
     "name": "stdout",
     "output_type": "stream",
     "text": [
      "start\n",
      "s\n",
      "sentence\n"
     ]
    }
   ],
   "source": [
    "\n",
    "#Code here\n",
    "for wrd in st.split():\n",
    "    if wrd[0][0] == 's':\n",
    "        print (wrd)"
   ]
  },
  {
   "cell_type": "markdown",
   "metadata": {},
   "source": [
    "______\n",
    "**Use range() to print all the even numbers from 0 to 10.**"
   ]
  },
  {
   "cell_type": "code",
   "execution_count": 150,
   "metadata": {},
   "outputs": [
    {
     "data": {
      "text/plain": [
       "[0, 2, 4, 6, 8, 10]"
      ]
     },
     "execution_count": 150,
     "metadata": {},
     "output_type": "execute_result"
    }
   ],
   "source": [
    "list(range(0,11,2))"
   ]
  },
  {
   "cell_type": "code",
   "execution_count": 149,
   "metadata": {},
   "outputs": [
    {
     "name": "stdout",
     "output_type": "stream",
     "text": [
      "0\n",
      "2\n",
      "4\n",
      "6\n",
      "8\n",
      "10\n"
     ]
    }
   ],
   "source": [
    "#Code Here\n",
    "for x in range(11):\n",
    "    if x % 2 == 0:\n",
    "        print(x)"
   ]
  },
  {
   "cell_type": "markdown",
   "metadata": {},
   "source": [
    "___\n",
    "**Use a List Comprehension to create a list of all numbers between 1 and 50 that are divisible by 3.**"
   ]
  },
  {
   "cell_type": "code",
   "execution_count": 151,
   "metadata": {},
   "outputs": [
    {
     "data": {
      "text/plain": [
       "[3, 6, 9, 12, 15, 18, 21, 24, 27, 30, 33, 36, 39, 42, 45, 48]"
      ]
     },
     "execution_count": 151,
     "metadata": {},
     "output_type": "execute_result"
    }
   ],
   "source": [
    "#Code in this cell\n",
    "[x for x in range(1,50) if x % 3 == 0]"
   ]
  },
  {
   "cell_type": "markdown",
   "metadata": {},
   "source": [
    "_____\n",
    "**Go through the string below and if the length of a word is even print \"even!\"**"
   ]
  },
  {
   "cell_type": "code",
   "execution_count": 29,
   "metadata": {},
   "outputs": [],
   "source": [
    "st = 'Print every word in this sentence that has an even number of letters'"
   ]
  },
  {
   "cell_type": "code",
   "execution_count": 152,
   "metadata": {},
   "outputs": [
    {
     "name": "stdout",
     "output_type": "stream",
     "text": [
      "Create <---- has an even length!\n",
      "list <---- has an even length!\n",
      "of <---- has an even length!\n",
      "of <---- has an even length!\n",
      "word <---- has an even length!\n",
      "in <---- has an even length!\n",
      "this <---- has an even length!\n",
      "string <---- has an even length!\n"
     ]
    }
   ],
   "source": [
    "#Code in this cell\n",
    "for wrd in st.split():\n",
    "    if len(wrd) % 2 == 0:\n",
    "        print(wrd + \" <---- has an even length!\")"
   ]
  },
  {
   "cell_type": "markdown",
   "metadata": {},
   "source": [
    "____\n",
    "**Write a program that prints the integers from 1 to 100. But for multiples of three print \"Fizz\" instead of the number, and for the multiples of five print \"Buzz\". For numbers which are multiples of both three and five print \"FizzBuzz\".**"
   ]
  },
  {
   "cell_type": "code",
   "execution_count": 154,
   "metadata": {},
   "outputs": [
    {
     "name": "stdout",
     "output_type": "stream",
     "text": [
      "1\n",
      "2\n",
      "Fizz - 3\n",
      "4\n",
      "Buzz - 5\n",
      "Fizz - 6\n",
      "7\n",
      "8\n",
      "Fizz - 9\n",
      "Buzz - 10\n",
      "11\n",
      "Fizz - 12\n",
      "13\n",
      "14\n",
      "FizzBuzz - 15\n",
      "16\n",
      "17\n",
      "Fizz - 18\n",
      "19\n",
      "Buzz - 20\n",
      "Fizz - 21\n",
      "22\n",
      "23\n",
      "Fizz - 24\n",
      "Buzz - 25\n",
      "26\n",
      "Fizz - 27\n",
      "28\n",
      "29\n",
      "FizzBuzz - 30\n",
      "31\n",
      "32\n",
      "Fizz - 33\n",
      "34\n",
      "Buzz - 35\n",
      "Fizz - 36\n",
      "37\n",
      "38\n",
      "Fizz - 39\n",
      "Buzz - 40\n",
      "41\n",
      "Fizz - 42\n",
      "43\n",
      "44\n",
      "FizzBuzz - 45\n",
      "46\n",
      "47\n",
      "Fizz - 48\n",
      "49\n",
      "Buzz - 50\n",
      "Fizz - 51\n",
      "52\n",
      "53\n",
      "Fizz - 54\n",
      "Buzz - 55\n",
      "56\n",
      "Fizz - 57\n",
      "58\n",
      "59\n",
      "FizzBuzz - 60\n",
      "61\n",
      "62\n",
      "Fizz - 63\n",
      "64\n",
      "Buzz - 65\n",
      "Fizz - 66\n",
      "67\n",
      "68\n",
      "Fizz - 69\n",
      "Buzz - 70\n",
      "71\n",
      "Fizz - 72\n",
      "73\n",
      "74\n",
      "FizzBuzz - 75\n",
      "76\n",
      "77\n",
      "Fizz - 78\n",
      "79\n",
      "Buzz - 80\n",
      "Fizz - 81\n",
      "82\n",
      "83\n",
      "Fizz - 84\n",
      "Buzz - 85\n",
      "86\n",
      "Fizz - 87\n",
      "88\n",
      "89\n",
      "FizzBuzz - 90\n",
      "91\n",
      "92\n",
      "Fizz - 93\n",
      "94\n",
      "Buzz - 95\n",
      "Fizz - 96\n",
      "97\n",
      "98\n",
      "Fizz - 99\n",
      "Buzz - 100\n"
     ]
    }
   ],
   "source": [
    "#Code in this cell\n",
    "\n",
    "for x in range (1,101):\n",
    "    if x % 3 == 0 and x % 5 == 0:\n",
    "        print (f'FizzBuzz - {x}')\n",
    "    elif x % 3 == 0:\n",
    "        print (f\"Fizz - {x}\")\n",
    "    elif x % 5 == 0:\n",
    "        print (f\"Buzz - {x}\")\n",
    "    else:\n",
    "        print (x)"
   ]
  },
  {
   "cell_type": "markdown",
   "metadata": {},
   "source": [
    "____\n",
    "**Use List Comprehension to create a list of the first letters of every word in the string below:**"
   ]
  },
  {
   "cell_type": "code",
   "execution_count": 86,
   "metadata": {},
   "outputs": [],
   "source": [
    "st = 'Create a list of the first letters of every word in this string'"
   ]
  },
  {
   "cell_type": "code",
   "execution_count": 155,
   "metadata": {},
   "outputs": [
    {
     "data": {
      "text/plain": [
       "['C', 'a', 'l', 'o', 't', 'f', 'l', 'o', 'e', 'w', 'i', 't', 's']"
      ]
     },
     "execution_count": 155,
     "metadata": {},
     "output_type": "execute_result"
    }
   ],
   "source": [
    "#Code in this cell\n",
    "[ch[0] for ch in list(st.split())]"
   ]
  },
  {
   "cell_type": "markdown",
   "metadata": {},
   "source": [
    "### Great Job!"
   ]
  }
 ],
 "metadata": {
  "kernelspec": {
   "display_name": "Python 3",
   "language": "python",
   "name": "python3"
  },
  "language_info": {
   "codemirror_mode": {
    "name": "ipython",
    "version": 3
   },
   "file_extension": ".py",
   "mimetype": "text/x-python",
   "name": "python",
   "nbconvert_exporter": "python",
   "pygments_lexer": "ipython3",
   "version": "3.7.6"
  }
 },
 "nbformat": 4,
 "nbformat_minor": 1
}
